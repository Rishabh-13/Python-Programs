{
 "cells": [
  {
   "cell_type": "code",
   "execution_count": null,
   "id": "48692b44",
   "metadata": {},
   "outputs": [],
   "source": [
    "pip install scipy"
   ]
  },
  {
   "cell_type": "code",
   "execution_count": null,
   "id": "1ae1d77d",
   "metadata": {},
   "outputs": [],
   "source": [
    "pip install sounddevice"
   ]
  },
  {
   "cell_type": "code",
   "execution_count": 5,
   "id": "9fe207ec",
   "metadata": {},
   "outputs": [
    {
     "name": "stdout",
     "output_type": "stream",
     "text": [
      "Enter the Recording time in seconds: 10\n",
      "Recording..............\n",
      "\n",
      "Recording is successfully completed. Please check your folder to listen recording\n"
     ]
    }
   ],
   "source": [
    "#import required modules\n",
    "import sounddevice\n",
    "from scipy.io.wavfile import write\n",
    "#sample_rate\n",
    "fs=44100\n",
    "\n",
    "#Ask to enter recording time \n",
    "second=int(input(\"Enter the Recording time (in seconds): \"))\n",
    "print(\"Recording..............\\n\")\n",
    "record_voice = sounddevice.rec(int(second * fs),samplerate=fs,channels=2)\n",
    "sounddevice.wait()\n",
    "write(\"MyRecording.wav\",fs,record_voice)\n",
    "print(\"Recording is successfully completed. Please check your folder to listen recording\")"
   ]
  },
  {
   "cell_type": "code",
   "execution_count": null,
   "id": "3798acb5",
   "metadata": {},
   "outputs": [],
   "source": []
  }
 ],
 "metadata": {
  "kernelspec": {
   "display_name": "Python 3 (ipykernel)",
   "language": "python",
   "name": "python3"
  },
  "language_info": {
   "codemirror_mode": {
    "name": "ipython",
    "version": 3
   },
   "file_extension": ".py",
   "mimetype": "text/x-python",
   "name": "python",
   "nbconvert_exporter": "python",
   "pygments_lexer": "ipython3",
   "version": "3.9.7"
  }
 },
 "nbformat": 4,
 "nbformat_minor": 5
}
