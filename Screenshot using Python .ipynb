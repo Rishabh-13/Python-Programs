{
 "cells": [
  {
   "cell_type": "code",
   "execution_count": null,
   "id": "9c052c21",
   "metadata": {},
   "outputs": [],
   "source": [
    "pip install pyautogui "
   ]
  },
  {
   "cell_type": "code",
   "execution_count": 3,
   "id": "eed0b97d",
   "metadata": {},
   "outputs": [],
   "source": [
    "import pyautogui \n",
    "myScreenshot=pyautogui.screenshot() \n",
    "myScreenshot.save(r'Screenshot_1.png')"
   ]
  },
  {
   "cell_type": "code",
   "execution_count": null,
   "id": "c92ffd3b",
   "metadata": {},
   "outputs": [],
   "source": []
  }
 ],
 "metadata": {
  "kernelspec": {
   "display_name": "Python 3 (ipykernel)",
   "language": "python",
   "name": "python3"
  },
  "language_info": {
   "codemirror_mode": {
    "name": "ipython",
    "version": 3
   },
   "file_extension": ".py",
   "mimetype": "text/x-python",
   "name": "python",
   "nbconvert_exporter": "python",
   "pygments_lexer": "ipython3",
   "version": "3.9.7"
  }
 },
 "nbformat": 4,
 "nbformat_minor": 5
}
