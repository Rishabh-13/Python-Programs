{
 "cells": [
  {
   "cell_type": "code",
   "execution_count": null,
   "id": "6ddb8835",
   "metadata": {},
   "outputs": [],
   "source": [
    "pip install PyPDF2"
   ]
  },
  {
   "cell_type": "code",
   "execution_count": 5,
   "id": "d6efe48f",
   "metadata": {},
   "outputs": [
    {
     "name": "stdout",
     "output_type": "stream",
     "text": [
      " A Simple PDF File \n",
      " This is a small demonstration .pdf file - \n",
      " just for use in the Virtual Mechanics tutorials. More text. And more \n",
      " text. And more text. And more text. And more text. \n",
      " And more text. And more text. And more text. And more text. And more \n",
      " text. And more text. Boring, zzzzz. And more text. And more text. And \n",
      " more text. And more text. And more text. And more text. And more text. \n",
      " And more text. And more text. \n",
      " And more text. And more text. And more text. And more text. And more \n",
      " text. And more text. And more text. Even more. Continued on page 2 ...\n"
     ]
    }
   ],
   "source": [
    "import PyPDF2 \n",
    "pdf = open(\"sample-pdf-file.pdf\", \"rb\")\n",
    "reader = PyPDF2.PdfFileReader(pdf) \n",
    "page = reader.getPage(0) \n",
    "print(page.extractText())"
   ]
  },
  {
   "cell_type": "code",
   "execution_count": null,
   "id": "cba37e49",
   "metadata": {},
   "outputs": [],
   "source": []
  }
 ],
 "metadata": {
  "kernelspec": {
   "display_name": "Python 3 (ipykernel)",
   "language": "python",
   "name": "python3"
  },
  "language_info": {
   "codemirror_mode": {
    "name": "ipython",
    "version": 3
   },
   "file_extension": ".py",
   "mimetype": "text/x-python",
   "name": "python",
   "nbconvert_exporter": "python",
   "pygments_lexer": "ipython3",
   "version": "3.9.7"
  }
 },
 "nbformat": 4,
 "nbformat_minor": 5
}
