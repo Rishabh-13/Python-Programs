{
 "cells": [
  {
   "cell_type": "code",
   "execution_count": null,
   "id": "00bfbc29",
   "metadata": {},
   "outputs": [],
   "source": [
    "pip install forex_python"
   ]
  },
  {
   "cell_type": "code",
   "execution_count": 1,
   "id": "00608591",
   "metadata": {},
   "outputs": [],
   "source": [
    "from forex_python.converter import CurrencyRates \n",
    "c = CurrencyRates() "
   ]
  },
  {
   "cell_type": "code",
   "execution_count": 6,
   "id": "a7195e3c",
   "metadata": {},
   "outputs": [
    {
     "name": "stdout",
     "output_type": "stream",
     "text": [
      "Enter the amount: 50\n",
      "From Currency: usd\n",
      "To Currency: inr\n",
      "\n",
      "Converting 50 from  USD  To  INR :\n",
      "3999.309051426316\n"
     ]
    }
   ],
   "source": [
    "amount = int(input(\"Enter the amount: \")) \n",
    "\n",
    "from_currency = input(\"From Currency: \").upper() \n",
    "to_currency = input(\"To Currency: \").upper()\n",
    "\n",
    "print(\"\\nConverting\", amount, \"from \", from_currency, \" To \", to_currency, \":\") \n",
    "\n",
    "result = c.convert(from_currency, to_currency, amount) \n",
    "print(result)"
   ]
  },
  {
   "cell_type": "code",
   "execution_count": null,
   "id": "a4028ae9",
   "metadata": {},
   "outputs": [],
   "source": [
    "#Currency Symbols: Ruppee - INR  ;  Dollars - USD   ;  Euro - EUR"
   ]
  }
 ],
 "metadata": {
  "kernelspec": {
   "display_name": "Python 3 (ipykernel)",
   "language": "python",
   "name": "python3"
  },
  "language_info": {
   "codemirror_mode": {
    "name": "ipython",
    "version": 3
   },
   "file_extension": ".py",
   "mimetype": "text/x-python",
   "name": "python",
   "nbconvert_exporter": "python",
   "pygments_lexer": "ipython3",
   "version": "3.9.7"
  }
 },
 "nbformat": 4,
 "nbformat_minor": 5
}
