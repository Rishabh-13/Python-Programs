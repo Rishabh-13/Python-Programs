{
 "cells": [
  {
   "cell_type": "code",
   "execution_count": 1,
   "id": "2ea6afb1",
   "metadata": {},
   "outputs": [],
   "source": [
    "# pip install pyttsx3"
   ]
  },
  {
   "cell_type": "code",
   "execution_count": 2,
   "id": "64761799",
   "metadata": {},
   "outputs": [],
   "source": [
    "# importing the modules\n",
    "import PyPDF2,pyttsx3"
   ]
  },
  {
   "cell_type": "code",
   "execution_count": 3,
   "id": "e9bfa5a5",
   "metadata": {},
   "outputs": [],
   "source": [
    "# POF file\n",
    "path = open('sample-pdf-file.pdf', 'rb')"
   ]
  },
  {
   "cell_type": "code",
   "execution_count": 4,
   "id": "433c7fe1",
   "metadata": {},
   "outputs": [],
   "source": [
    "# creating a PdfFileReader object\n",
    "pdfReader = PyPDF2.PdfFileReader(path)"
   ]
  },
  {
   "cell_type": "code",
   "execution_count": null,
   "id": "455b12c9",
   "metadata": {},
   "outputs": [],
   "source": [
    "# Get an engine instance for the speech synthesis\n",
    "speak = pyttsx3.init()\n",
    "\n",
    "for pages in range(pdfReader.numPages):\n",
    "    text = pdfReader.getPage(pages) .extractText()\n",
    "    speak. say(text)\n",
    "    speak. runAndWait()\n",
    "\n",
    "speak. stop()"
   ]
  },
  {
   "cell_type": "code",
   "execution_count": null,
   "id": "938cc878",
   "metadata": {},
   "outputs": [],
   "source": []
  }
 ],
 "metadata": {
  "kernelspec": {
   "display_name": "Python 3 (ipykernel)",
   "language": "python",
   "name": "python3"
  },
  "language_info": {
   "codemirror_mode": {
    "name": "ipython",
    "version": 3
   },
   "file_extension": ".py",
   "mimetype": "text/x-python",
   "name": "python",
   "nbconvert_exporter": "python",
   "pygments_lexer": "ipython3",
   "version": "3.9.7"
  }
 },
 "nbformat": 4,
 "nbformat_minor": 5
}
