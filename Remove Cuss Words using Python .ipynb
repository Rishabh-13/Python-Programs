{
 "cells": [
  {
   "cell_type": "code",
   "execution_count": 2,
   "id": "3b35e2e0",
   "metadata": {},
   "outputs": [
    {
     "name": "stdout",
     "output_type": "stream",
     "text": [
      "Collecting better_profanity\n",
      "  Downloading better_profanity-0.7.0-py3-none-any.whl (46 kB)\n",
      "Installing collected packages: better-profanity\n",
      "Successfully installed better-profanity-0.7.0\n",
      "Note: you may need to restart the kernel to use updated packages.\n"
     ]
    }
   ],
   "source": [
    "pip install better_profanity "
   ]
  },
  {
   "cell_type": "code",
   "execution_count": 5,
   "id": "766424d6",
   "metadata": {},
   "outputs": [
    {
     "name": "stdout",
     "output_type": "stream",
     "text": [
      "Enter your sentence to check : For fucks sake! What the hell happened here?\n",
      "\n",
      " For **** sake! What the **** happened here?\n"
     ]
    }
   ],
   "source": [
    "from better_profanity import profanity \n",
    "\n",
    "text = input(\"Enter your sentence to check : \") \n",
    "censored = profanity.censor(text) \n",
    "\n",
    "print(\"\\n\",censored)"
   ]
  },
  {
   "cell_type": "code",
   "execution_count": null,
   "id": "5f7e455c",
   "metadata": {},
   "outputs": [],
   "source": []
  }
 ],
 "metadata": {
  "kernelspec": {
   "display_name": "Python 3 (ipykernel)",
   "language": "python",
   "name": "python3"
  },
  "language_info": {
   "codemirror_mode": {
    "name": "ipython",
    "version": 3
   },
   "file_extension": ".py",
   "mimetype": "text/x-python",
   "name": "python",
   "nbconvert_exporter": "python",
   "pygments_lexer": "ipython3",
   "version": "3.9.7"
  }
 },
 "nbformat": 4,
 "nbformat_minor": 5
}
