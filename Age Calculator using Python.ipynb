{
 "cells": [
  {
   "cell_type": "code",
   "execution_count": 1,
   "id": "83e81ceb",
   "metadata": {},
   "outputs": [],
   "source": [
    "import datetime"
   ]
  },
  {
   "cell_type": "code",
   "execution_count": 2,
   "id": "19bb7ce1",
   "metadata": {},
   "outputs": [],
   "source": [
    "def ageCalculator(y, m, d):\n",
    "    today = datetime.datetime.now().date()\n",
    "    dob = datetime.date(y, m, d)\n",
    "    age = int((today-dob).days / 365.25)\n",
    "    print(\"Your Age is :\",age)\n"
   ]
  },
  {
   "cell_type": "code",
   "execution_count": 3,
   "id": "8a85af53",
   "metadata": {},
   "outputs": [
    {
     "name": "stdout",
     "output_type": "stream",
     "text": [
      "Enter your Birth Year: 1947\n",
      "Enter your Birth Month(1-12): 8\n",
      "Enter your Birth Date(1-31): 15\n",
      "Your Age is : 75\n"
     ]
    }
   ],
   "source": [
    "#y=year m=month d=day\n",
    "\n",
    "y = int(input(\"Enter your Birth Year: \"))\n",
    "m = int(input(\"Enter your Birth Month(1-12): \"))\n",
    "d = int(input(\"Enter your Birth Date(1-31): \"))\n",
    "\n",
    "ageCalculator(y , m, d)"
   ]
  },
  {
   "cell_type": "code",
   "execution_count": null,
   "id": "2558ed52",
   "metadata": {},
   "outputs": [],
   "source": []
  }
 ],
 "metadata": {
  "kernelspec": {
   "display_name": "Python 3 (ipykernel)",
   "language": "python",
   "name": "python3"
  },
  "language_info": {
   "codemirror_mode": {
    "name": "ipython",
    "version": 3
   },
   "file_extension": ".py",
   "mimetype": "text/x-python",
   "name": "python",
   "nbconvert_exporter": "python",
   "pygments_lexer": "ipython3",
   "version": "3.9.7"
  }
 },
 "nbformat": 4,
 "nbformat_minor": 5
}
