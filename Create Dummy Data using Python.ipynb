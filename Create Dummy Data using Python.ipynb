{
 "cells": [
  {
   "cell_type": "code",
   "execution_count": null,
   "id": "d4c375d6",
   "metadata": {},
   "outputs": [],
   "source": [
    "pip install faker"
   ]
  },
  {
   "cell_type": "code",
   "execution_count": 4,
   "id": "bfdbc03f",
   "metadata": {},
   "outputs": [
    {
     "name": "stdout",
     "output_type": "stream",
     "text": [
      "Zachary Morgan\n",
      "47140 John Ridges Apt. 097\n",
      "Raymondstad, MA 38483\n",
      "Teach sport do whom really feel. Voice quite PM do. Spend cell certainly decision forward big.\n",
      "Computer difficult fact fact create.\n"
     ]
    }
   ],
   "source": [
    "from faker import Faker \n",
    "\n",
    "fake = Faker() \n",
    "print(fake.name()) \n",
    "print(fake.address()) \n",
    "print(fake.text())"
   ]
  },
  {
   "cell_type": "code",
   "execution_count": 5,
   "id": "28c10881",
   "metadata": {},
   "outputs": [
    {
     "name": "stdout",
     "output_type": "stream",
     "text": [
      "                                 job                     company          ssn  \\\n",
      "0  Special educational needs teacher    Rojas, Payne and Merritt  562-42-7929   \n",
      "1                       Metallurgist  Rogers, Martinez and White  013-80-7564   \n",
      "2                       Web designer                Brown-Brewer  254-85-8603   \n",
      "3     Manufacturing systems engineer                    Khan Ltd  226-40-8383   \n",
      "4        Clinical research associate         Smith, Ross and Day  509-82-1859   \n",
      "\n",
      "                                         residence           current_location  \\\n",
      "0          93362 Roger Lights\\nRamosside, GA 24844   (-29.588898, -35.149335)   \n",
      "1                 PSC 2152, Box 2882\\nAPO AE 15981     (86.1982415, 9.905099)   \n",
      "2  10839 Jonathan Landing\\nNorth Matthew, AR 70591   (-29.365181, -48.163883)   \n",
      "3      282 Kendra Glen\\nChristopherville, NH 03017    (67.101581, -95.660236)   \n",
      "4                 PSC 8316, Box 0900\\nAPO AP 32382  (36.8089575, -141.994826)   \n",
      "\n",
      "  blood_group                                            website  \\\n",
      "0         AB+  [http://www.johnson.biz/, http://williams.info...   \n",
      "1          A+  [https://www.galvan-campbell.net/, http://hans...   \n",
      "2         AB-                         [https://www.johnson.net/]   \n",
      "3          B-                         [http://moore-hansen.net/]   \n",
      "4          O+  [http://houston.info/, http://levy.biz/, https...   \n",
      "\n",
      "        username              name sex  \\\n",
      "0     joycebaker  Kimberly Freeman   F   \n",
      "1      dgonzalez     Jessica Hogan   F   \n",
      "2    josephjones  Vanessa Petersen   F   \n",
      "3  cherylcordova  Shirley Williams   F   \n",
      "4    rileyashley   Christian Smith   M   \n",
      "\n",
      "                                             address                     mail  \\\n",
      "0  3155 Christopher Common Apt. 132\\nGreenefurt, ...      drobinson@gmail.com   \n",
      "1  61783 Mark Hill Apt. 789\\nNew Jenniferside, MT...       donald46@gmail.com   \n",
      "2    950 Bernard Cape Apt. 409\\nSalasmouth, LA 17227         tara30@gmail.com   \n",
      "3              38441 Boyd Mall\\nOliverport, HI 95977  chelseahunter@gmail.com   \n",
      "4  894 Walters Station Suite 823\\nGreenfort, IA 7...     rdelgado@hotmail.com   \n",
      "\n",
      "    birthdate  \n",
      "0  1971-10-08  \n",
      "1  1952-01-21  \n",
      "2  1985-02-18  \n",
      "3  1962-11-23  \n",
      "4  2003-03-20  \n"
     ]
    }
   ],
   "source": [
    "from faker import Faker \n",
    "import pandas as pd \n",
    "\n",
    "fake = Faker() \n",
    "data = [fake.profile() for i in range(50)] \n",
    "data = pd.DataFrame(data) \n",
    "print(data.head())"
   ]
  },
  {
   "cell_type": "code",
   "execution_count": null,
   "id": "03cd4745",
   "metadata": {},
   "outputs": [],
   "source": []
  }
 ],
 "metadata": {
  "kernelspec": {
   "display_name": "Python 3 (ipykernel)",
   "language": "python",
   "name": "python3"
  },
  "language_info": {
   "codemirror_mode": {
    "name": "ipython",
    "version": 3
   },
   "file_extension": ".py",
   "mimetype": "text/x-python",
   "name": "python",
   "nbconvert_exporter": "python",
   "pygments_lexer": "ipython3",
   "version": "3.9.7"
  }
 },
 "nbformat": 4,
 "nbformat_minor": 5
}
