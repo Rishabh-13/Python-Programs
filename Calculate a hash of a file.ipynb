{
 "cells": [
  {
   "cell_type": "code",
   "execution_count": 3,
   "id": "ea51c630",
   "metadata": {},
   "outputs": [
    {
     "name": "stdout",
     "output_type": "stream",
     "text": [
      "596fd7bac535a4011023c37a1bc1d413\n"
     ]
    }
   ],
   "source": [
    "import hashlib \n",
    "BLOCKSIZE = 80000  # BLock read size if file is big enough \n",
    "\n",
    "fileToOpen = 'TestFile.txt'              ## Add file path + name here\n",
    "hasher = hashlib.md5() \n",
    "with open(fileToOpen, 'rb') as afile: \n",
    "    buf = afile.read(BLOCKSIZE) \n",
    "    while len(buf) > 0: \n",
    "        hasher.update(buf) \n",
    "        buf = afile.read(BLOCKSIZE) \n",
    "print(hasher.hexdigest()) "
   ]
  },
  {
   "cell_type": "code",
   "execution_count": null,
   "id": "ea4d0ee6",
   "metadata": {},
   "outputs": [],
   "source": []
  }
 ],
 "metadata": {
  "kernelspec": {
   "display_name": "Python 3 (ipykernel)",
   "language": "python",
   "name": "python3"
  },
  "language_info": {
   "codemirror_mode": {
    "name": "ipython",
    "version": 3
   },
   "file_extension": ".py",
   "mimetype": "text/x-python",
   "name": "python",
   "nbconvert_exporter": "python",
   "pygments_lexer": "ipython3",
   "version": "3.9.7"
  }
 },
 "nbformat": 4,
 "nbformat_minor": 5
}
