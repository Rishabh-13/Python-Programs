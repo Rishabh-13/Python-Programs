{
 "cells": [
  {
   "cell_type": "code",
   "execution_count": 12,
   "id": "c55266d7",
   "metadata": {},
   "outputs": [
    {
     "name": "stdout",
     "output_type": "stream",
     "text": [
      "Enter the 1st color :red\n",
      "Enter the 2nd color :blue\n",
      "Enter the 3rd color :green\n",
      "\n",
      "The Resistor Value is:  2600000 Ω\n",
      "\n",
      " and in Kilo-ohm :  2600.0 kΩ\n"
     ]
    }
   ],
   "source": [
    "color=[\"black\",\"brown\",\"red\",\"orange\",\"yellow\" ,\"green\",\"blue\",\"violet\",\"grey\",\"white\"]\n",
    "\n",
    "n=color.index((input(\"Enter the 1st color :\"))) \n",
    "m=color.index((input(\"Enter the 2nd color :\"))) \n",
    "p=color.index((input(\"Enter the 3rd color :\"))) \n",
    "\n",
    "q=int(((n*10)+(m))*(10**(p))) \n",
    "z=q/1000 \n",
    "\n",
    "print(\"\\nThe Resistor Value is: \",q,\"Ω\") \n",
    "print(\"\\n and in Kilo-ohm : \",z,\"kΩ\") \n"
   ]
  },
  {
   "cell_type": "raw",
   "id": "c0748144",
   "metadata": {},
   "source": [
    "\n"
   ]
  }
 ],
 "metadata": {
  "kernelspec": {
   "display_name": "Python 3 (ipykernel)",
   "language": "python",
   "name": "python3"
  },
  "language_info": {
   "codemirror_mode": {
    "name": "ipython",
    "version": 3
   },
   "file_extension": ".py",
   "mimetype": "text/x-python",
   "name": "python",
   "nbconvert_exporter": "python",
   "pygments_lexer": "ipython3",
   "version": "3.9.7"
  }
 },
 "nbformat": 4,
 "nbformat_minor": 5
}
