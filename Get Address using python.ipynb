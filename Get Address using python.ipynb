{
 "cells": [
  {
   "cell_type": "code",
   "execution_count": 3,
   "id": "00fa49c1",
   "metadata": {},
   "outputs": [
    {
     "name": "stdout",
     "output_type": "stream",
     "text": [
      "Collecting geopy\n",
      "  Downloading geopy-2.2.0-py3-none-any.whl (118 kB)\n",
      "Collecting geographiclib<2,>=1.49\n",
      "  Downloading geographiclib-1.52-py3-none-any.whl (38 kB)\n",
      "Installing collected packages: geographiclib, geopy\n",
      "Successfully installed geographiclib-1.52 geopy-2.2.0\n",
      "Note: you may need to restart the kernel to use updated packages.\n"
     ]
    }
   ],
   "source": [
    "pip install geopy"
   ]
  },
  {
   "cell_type": "code",
   "execution_count": 6,
   "id": "c0147033",
   "metadata": {},
   "outputs": [
    {
     "name": "stdout",
     "output_type": "stream",
     "text": [
      "Enter the zipcode : 110064\n",
      "Zipcode: 110064\n",
      "Details of the Zipcode:\n",
      "Hari Nagar, Rajouri Garden Tehsil, West Delhi, 110064, India\n"
     ]
    }
   ],
   "source": [
    "from geopy.geocoders import Nominatim \n",
    "# Using Nominatim Api \n",
    "geolocator = Nominatim(user_agent=\"geoapiExercises\") \n",
    "\n",
    "# Zipocde input \n",
    "a = input(\"Enter the zipcode : \") \n",
    "zipcode = a \n",
    "# Using geocode() \n",
    "location = geolocator.geocode(zipcode) \n",
    "\n",
    "# Displaying address details \n",
    "print(\"Zipcode:\",zipcode) \n",
    "print(\"Details of the Zipcode:\") \n",
    "print(location)"
   ]
  },
  {
   "cell_type": "code",
   "execution_count": null,
   "id": "42d8386e",
   "metadata": {},
   "outputs": [],
   "source": []
  }
 ],
 "metadata": {
  "kernelspec": {
   "display_name": "Python 3 (ipykernel)",
   "language": "python",
   "name": "python3"
  },
  "language_info": {
   "codemirror_mode": {
    "name": "ipython",
    "version": 3
   },
   "file_extension": ".py",
   "mimetype": "text/x-python",
   "name": "python",
   "nbconvert_exporter": "python",
   "pygments_lexer": "ipython3",
   "version": "3.9.7"
  }
 },
 "nbformat": 4,
 "nbformat_minor": 5
}
