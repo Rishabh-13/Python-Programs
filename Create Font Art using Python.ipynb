{
 "cells": [
  {
   "cell_type": "code",
   "execution_count": 1,
   "id": "1f120c65",
   "metadata": {},
   "outputs": [
    {
     "name": "stdout",
     "output_type": "stream",
     "text": [
      "Collecting pyfiglet\n",
      "  Downloading pyfiglet-0.8.post1-py2.py3-none-any.whl (865 kB)\n",
      "Installing collected packages: pyfiglet\n",
      "Successfully installed pyfiglet-0.8.post1\n",
      "Note: you may need to restart the kernel to use updated packages.\n"
     ]
    }
   ],
   "source": [
    "pip install pyfiglet"
   ]
  },
  {
   "cell_type": "code",
   "execution_count": 10,
   "id": "4470e09c",
   "metadata": {},
   "outputs": [
    {
     "name": "stdout",
     "output_type": "stream",
     "text": [
      " ___           _ _         _        ____                _   _ \n",
      "|_ _|_ __   __| (_) __ _  (_)___   / ___|_ __ ___  __ _| |_| |\n",
      " | || '_ \\ / _` | |/ _` | | / __| | |  _| '__/ _ \\/ _` | __| |\n",
      " | || | | | (_| | | (_| | | \\__ \\ | |_| | | |  __/ (_| | |_|_|\n",
      "|___|_| |_|\\__,_|_|\\__,_| |_|___/  \\____|_|  \\___|\\__,_|\\__(_)\n",
      "                                                              \n",
      "\n"
     ]
    }
   ],
   "source": [
    "import pyfiglet \n",
    "\n",
    "font = pyfiglet.figlet_format('India is Great!') \n",
    "print(font) "
   ]
  },
  {
   "cell_type": "code",
   "execution_count": 13,
   "id": "2469c7e0",
   "metadata": {},
   "outputs": [
    {
     "name": "stdout",
     "output_type": "stream",
     "text": [
      "                                                           \n",
      "                                                           \n",
      "EEEEEEEEEEEEEEEEEEEEEE                                     \n",
      "E::::::::::::::::::::E                                     \n",
      "E::::::::::::::::::::E                                     \n",
      "EE::::::EEEEEEEEE::::E                                     \n",
      "  E:::::E       EEEEEE  aaaaaaaaaaaaa  rrrrr   rrrrrrrrr   \n",
      "  E:::::E               a::::::::::::a r::::rrr:::::::::r  \n",
      "  E::::::EEEEEEEEEE     aaaaaaaaa:::::ar:::::::::::::::::r \n",
      "  E:::::::::::::::E              a::::arr::::::rrrrr::::::r\n",
      "  E:::::::::::::::E       aaaaaaa:::::a r:::::r     r:::::r\n",
      "  E::::::EEEEEEEEEE     aa::::::::::::a r:::::r     rrrrrrr\n",
      "  E:::::E              a::::aaaa::::::a r:::::r            \n",
      "  E:::::E       EEEEEEa::::a    a:::::a r:::::r            \n",
      "EE::::::EEEEEEEE:::::Ea::::a    a:::::a r:::::r            \n",
      "E::::::::::::::::::::Ea:::::aaaa::::::a r:::::r            \n",
      "E::::::::::::::::::::E a::::::::::aa:::ar:::::r            \n",
      "EEEEEEEEEEEEEEEEEEEEEE  aaaaaaaaaa  aaaarrrrrrr            \n",
      "                                                           \n",
      "                                                           \n",
      "                                                           \n",
      "                                                           \n",
      "                                                           \n",
      "                                                           \n",
      "                                                           \n",
      "                                          \n",
      "                                          \n",
      "         tttt         hhhhhhh             \n",
      "      ttt:::t         h:::::h             \n",
      "      t:::::t         h:::::h             \n",
      "      t:::::t         h:::::h             \n",
      "ttttttt:::::ttttttt    h::::h hhhhh       \n",
      "t:::::::::::::::::t    h::::hh:::::hhh    \n",
      "t:::::::::::::::::t    h::::::::::::::hh  \n",
      "tttttt:::::::tttttt    h:::::::hhh::::::h \n",
      "      t:::::t          h::::::h   h::::::h\n",
      "      t:::::t          h:::::h     h:::::h\n",
      "      t:::::t          h:::::h     h:::::h\n",
      "      t:::::t    tttttth:::::h     h:::::h\n",
      "      t::::::tttt:::::th:::::h     h:::::h\n",
      "      tt::::::::::::::th:::::h     h:::::h\n",
      "        tt:::::::::::tth:::::h     h:::::h\n",
      "          ttttttttttt  hhhhhhh     hhhhhhh\n",
      "                                          \n",
      "                                          \n",
      "                                          \n",
      "                                          \n",
      "                                          \n",
      "                                          \n",
      "                                          \n",
      "\n"
     ]
    }
   ],
   "source": [
    "font = pyfiglet.figlet_format('Earth', font = \"doh\" ) \n",
    "print(font) "
   ]
  },
  {
   "cell_type": "code",
   "execution_count": null,
   "id": "fa69e9a4",
   "metadata": {},
   "outputs": [],
   "source": []
  }
 ],
 "metadata": {
  "kernelspec": {
   "display_name": "Python 3 (ipykernel)",
   "language": "python",
   "name": "python3"
  },
  "language_info": {
   "codemirror_mode": {
    "name": "ipython",
    "version": 3
   },
   "file_extension": ".py",
   "mimetype": "text/x-python",
   "name": "python",
   "nbconvert_exporter": "python",
   "pygments_lexer": "ipython3",
   "version": "3.9.7"
  }
 },
 "nbformat": 4,
 "nbformat_minor": 5
}
