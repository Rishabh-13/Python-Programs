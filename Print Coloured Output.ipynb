{
 "cells": [
  {
   "cell_type": "code",
   "execution_count": 3,
   "id": "cfb85ec8",
   "metadata": {},
   "outputs": [],
   "source": [
    "from colorama import Fore"
   ]
  },
  {
   "cell_type": "code",
   "execution_count": 5,
   "id": "e4e00762",
   "metadata": {},
   "outputs": [
    {
     "name": "stdout",
     "output_type": "stream",
     "text": [
      "\u001b[34mNarendra Modi\n",
      "\u001b[32mAmit Shah\n",
      "\u001b[31mDr. S Jaishankar\n",
      "\u001b[33mNirmala Sitharamn\n",
      "\u001b[36mTHANK YOU\n"
     ]
    }
   ],
   "source": [
    "print(Fore.BLUE + \"Narendra Modi\")\n",
    "print(Fore.GREEN + \"Amit Shah\")\n",
    "print(Fore.RED + \"Dr. S Jaishankar\")\n",
    "print(Fore.YELLOW + \"Nirmala Sitharamn\")\n",
    "print(Fore.CYAN + \"THANK YOU\")"
   ]
  },
  {
   "cell_type": "code",
   "execution_count": null,
   "id": "88f79118",
   "metadata": {},
   "outputs": [],
   "source": []
  }
 ],
 "metadata": {
  "kernelspec": {
   "display_name": "Python 3 (ipykernel)",
   "language": "python",
   "name": "python3"
  },
  "language_info": {
   "codemirror_mode": {
    "name": "ipython",
    "version": 3
   },
   "file_extension": ".py",
   "mimetype": "text/x-python",
   "name": "python",
   "nbconvert_exporter": "python",
   "pygments_lexer": "ipython3",
   "version": "3.9.7"
  }
 },
 "nbformat": 4,
 "nbformat_minor": 5
}
