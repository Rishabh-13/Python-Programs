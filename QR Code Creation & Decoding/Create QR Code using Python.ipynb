{
 "cells": [
  {
   "cell_type": "code",
   "execution_count": null,
   "id": "b92f578d",
   "metadata": {},
   "outputs": [],
   "source": [
    "pip install pyqrcode"
   ]
  },
  {
   "cell_type": "code",
   "execution_count": 6,
   "id": "1ba353a4",
   "metadata": {},
   "outputs": [
    {
     "name": "stdout",
     "output_type": "stream",
     "text": [
      "Collecting pypng\n",
      "  Downloading pypng-0.20220715.0-py3-none-any.whl (58 kB)\n",
      "Installing collected packages: pypng\n",
      "Successfully installed pypng-0.20220715.0\n",
      "Note: you may need to restart the kernel to use updated packages.\n"
     ]
    }
   ],
   "source": [
    "pip install pypng"
   ]
  },
  {
   "cell_type": "code",
   "execution_count": 9,
   "id": "09e169fe",
   "metadata": {},
   "outputs": [],
   "source": [
    "import pyqrcode\n",
    "import png \n",
    "\n",
    "link = \"https://www.youtube.com/watch?v=dQw4w9WgXcQ\" \n",
    "qr_code = pyqrcode.create(link)\n",
    "qr_code.png(\"PythonIntro.png\", scale=8)"
   ]
  },
  {
   "cell_type": "code",
   "execution_count": null,
   "id": "d4cf1dde",
   "metadata": {},
   "outputs": [],
   "source": []
  }
 ],
 "metadata": {
  "kernelspec": {
   "display_name": "Python 3 (ipykernel)",
   "language": "python",
   "name": "python3"
  },
  "language_info": {
   "codemirror_mode": {
    "name": "ipython",
    "version": 3
   },
   "file_extension": ".py",
   "mimetype": "text/x-python",
   "name": "python",
   "nbconvert_exporter": "python",
   "pygments_lexer": "ipython3",
   "version": "3.9.7"
  }
 },
 "nbformat": 4,
 "nbformat_minor": 5
}
