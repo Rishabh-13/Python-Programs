{
 "cells": [
  {
   "cell_type": "code",
   "execution_count": 10,
   "id": "c0e5fe99",
   "metadata": {},
   "outputs": [],
   "source": [
    "# pip install winshell"
   ]
  },
  {
   "cell_type": "code",
   "execution_count": 1,
   "id": "0093702f",
   "metadata": {},
   "outputs": [],
   "source": [
    "import winshell"
   ]
  },
  {
   "cell_type": "code",
   "execution_count": 4,
   "id": "4addfc2f",
   "metadata": {},
   "outputs": [
    {
     "name": "stdout",
     "output_type": "stream",
     "text": [
      "Recycle bin is emptied Now\n"
     ]
    }
   ],
   "source": [
    "try:\n",
    "    winshell.recycle_bin().empty(confirm=False, show_progress=True, sound=True)\n",
    "    print(\"Recycle bin is emptied Now\")\n",
    "    \n",
    "except:\n",
    "    print(\"Recycle bin already empty\")"
   ]
  },
  {
   "cell_type": "code",
   "execution_count": null,
   "id": "ddf2d366",
   "metadata": {},
   "outputs": [],
   "source": []
  }
 ],
 "metadata": {
  "kernelspec": {
   "display_name": "Python 3 (ipykernel)",
   "language": "python",
   "name": "python3"
  },
  "language_info": {
   "codemirror_mode": {
    "name": "ipython",
    "version": 3
   },
   "file_extension": ".py",
   "mimetype": "text/x-python",
   "name": "python",
   "nbconvert_exporter": "python",
   "pygments_lexer": "ipython3",
   "version": "3.9.7"
  }
 },
 "nbformat": 4,
 "nbformat_minor": 5
}
