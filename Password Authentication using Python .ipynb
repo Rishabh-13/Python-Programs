{
 "cells": [
  {
   "cell_type": "code",
   "execution_count": 1,
   "id": "17026ae8",
   "metadata": {},
   "outputs": [
    {
     "name": "stdout",
     "output_type": "stream",
     "text": [
      "Enter Your Username : Github\n",
      "Enter Your Password : ········\n",
      "Enter Your Password Again : ········\n",
      "Verified\n"
     ]
    }
   ],
   "source": [
    "import getpass \n",
    "database = {\"Github\": \"108108\", \"LinkedIn\": \"11224455\"}\n",
    "username = input(\"Enter Your Username : \") \n",
    "password = getpass.getpass(\"Enter Your Password : \") \n",
    "for i in database.keys():\n",
    "    if username == i:\n",
    "        while password != database.get(i):\n",
    "            password = getpass.getpass(\"Enter Your Password Again : \")\n",
    "        break \n",
    "print(\"Verified\") "
   ]
  },
  {
   "cell_type": "code",
   "execution_count": null,
   "id": "9c124e89",
   "metadata": {},
   "outputs": [],
   "source": []
  }
 ],
 "metadata": {
  "kernelspec": {
   "display_name": "Python 3 (ipykernel)",
   "language": "python",
   "name": "python3"
  },
  "language_info": {
   "codemirror_mode": {
    "name": "ipython",
    "version": 3
   },
   "file_extension": ".py",
   "mimetype": "text/x-python",
   "name": "python",
   "nbconvert_exporter": "python",
   "pygments_lexer": "ipython3",
   "version": "3.9.7"
  }
 },
 "nbformat": 4,
 "nbformat_minor": 5
}
