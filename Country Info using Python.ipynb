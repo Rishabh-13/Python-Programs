{
 "cells": [
  {
   "cell_type": "code",
   "execution_count": 2,
   "id": "92388786",
   "metadata": {},
   "outputs": [
    {
     "name": "stdout",
     "output_type": "stream",
     "text": [
      "Collecting countryinfo\n",
      "  Downloading countryinfo-0.1.2-py3-none-any.whl (602 kB)\n",
      "Installing collected packages: countryinfo\n",
      "Successfully installed countryinfo-0.1.2\n",
      "Note: you may need to restart the kernel to use updated packages.\n"
     ]
    }
   ],
   "source": [
    "pip install countryinfo"
   ]
  },
  {
   "cell_type": "code",
   "execution_count": 5,
   "id": "bf3e1a31",
   "metadata": {},
   "outputs": [
    {
     "name": "stdout",
     "output_type": "stream",
     "text": [
      "Enter your country : india\n",
      "Capital is :  New Delhi\n",
      "Currencies is : ['INR']\n",
      "Lanuage is :  ['hi', 'en']\n",
      "Borders are :  ['AFG', 'BGD', 'BTN', 'MMR', 'CHN', 'NPL', 'PAK', 'LKA']\n",
      "Others names :  ['IN', 'Bhārat', 'Republic of India', 'Bharat Ganrajya']\n"
     ]
    }
   ],
   "source": [
    "from countryinfo import CountryInfo \n",
    "\n",
    "count=input(\"Enter your country : \") \n",
    "country = CountryInfo(count) \n",
    "print(\"Capital is : \",country.capital()) \n",
    "print(\"Currencies is :\",country.currencies()) \n",
    "print(\"Lanuage is : \",country.languages()) \n",
    "print(\"Borders are : \",country.borders()) \n",
    "print(\"Others names : \",country.alt_spellings()) "
   ]
  },
  {
   "cell_type": "code",
   "execution_count": null,
   "id": "b75faf7e",
   "metadata": {},
   "outputs": [],
   "source": []
  }
 ],
 "metadata": {
  "kernelspec": {
   "display_name": "Python 3 (ipykernel)",
   "language": "python",
   "name": "python3"
  },
  "language_info": {
   "codemirror_mode": {
    "name": "ipython",
    "version": 3
   },
   "file_extension": ".py",
   "mimetype": "text/x-python",
   "name": "python",
   "nbconvert_exporter": "python",
   "pygments_lexer": "ipython3",
   "version": "3.9.7"
  }
 },
 "nbformat": 4,
 "nbformat_minor": 5
}
