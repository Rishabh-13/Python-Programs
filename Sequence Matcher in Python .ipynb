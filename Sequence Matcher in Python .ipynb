{
 "cells": [
  {
   "cell_type": "code",
   "execution_count": 4,
   "id": "dba639d3",
   "metadata": {},
   "outputs": [
    {
     "name": "stdout",
     "output_type": "stream",
     "text": [
      "Enter 1st sentence : I love coding.\n",
      "Enter 2nd sentence : Coding is interesting.\n",
      "Both are 33.33333333333333 % similar\n"
     ]
    }
   ],
   "source": [
    "from difflib import SequenceMatcher\n",
    "\n",
    "text1 = input(\"Enter 1st sentence : \")\n",
    "text2 = input(\"Enter 2nd sentence : \")\n",
    "sequenceScore = SequenceMatcher(None, text1, text2).ratio()\n",
    "\n",
    "print(f\"Both are {sequenceScore * 100} % similar\") "
   ]
  },
  {
   "cell_type": "code",
   "execution_count": null,
   "id": "76233b0a",
   "metadata": {},
   "outputs": [],
   "source": []
  }
 ],
 "metadata": {
  "kernelspec": {
   "display_name": "Python 3 (ipykernel)",
   "language": "python",
   "name": "python3"
  },
  "language_info": {
   "codemirror_mode": {
    "name": "ipython",
    "version": 3
   },
   "file_extension": ".py",
   "mimetype": "text/x-python",
   "name": "python",
   "nbconvert_exporter": "python",
   "pygments_lexer": "ipython3",
   "version": "3.9.7"
  }
 },
 "nbformat": 4,
 "nbformat_minor": 5
}
