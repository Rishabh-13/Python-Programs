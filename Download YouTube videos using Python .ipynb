{
 "cells": [
  {
   "cell_type": "code",
   "execution_count": 3,
   "id": "738540c9",
   "metadata": {},
   "outputs": [
    {
     "name": "stdout",
     "output_type": "stream",
     "text": [
      "Collecting pytube\n",
      "  Downloading pytube-12.1.0-py3-none-any.whl (56 kB)\n",
      "Installing collected packages: pytube\n",
      "Successfully installed pytube-12.1.0\n",
      "Note: you may need to restart the kernel to use updated packages.\n"
     ]
    }
   ],
   "source": [
    "pip install pytube"
   ]
  },
  {
   "cell_type": "code",
   "execution_count": null,
   "id": "f2af5e84",
   "metadata": {},
   "outputs": [],
   "source": [
    "#import pytube library to download the video \n",
    "import pytube \n",
    "\n",
    "#Ask for the url of video \n",
    "url = input(\"Enter video url: \") \n",
    "\n",
    "# A designated download path can also be asked from user\n",
    "#path = input(\"Enter path of storage\") \n",
    "\n",
    "#specify the storage path of video \n",
    "path=\"C:\" \n",
    "\n",
    "#magic Line to download the video \n",
    "pytube.YouTube(ur1).streams.get_highest_resolution().download(path) "
   ]
  },
  {
   "cell_type": "code",
   "execution_count": null,
   "id": "08c8a7ae",
   "metadata": {},
   "outputs": [],
   "source": []
  }
 ],
 "metadata": {
  "kernelspec": {
   "display_name": "Python 3 (ipykernel)",
   "language": "python",
   "name": "python3"
  },
  "language_info": {
   "codemirror_mode": {
    "name": "ipython",
    "version": 3
   },
   "file_extension": ".py",
   "mimetype": "text/x-python",
   "name": "python",
   "nbconvert_exporter": "python",
   "pygments_lexer": "ipython3",
   "version": "3.9.7"
  }
 },
 "nbformat": 4,
 "nbformat_minor": 5
}
