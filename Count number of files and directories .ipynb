{
 "cells": [
  {
   "cell_type": "code",
   "execution_count": 6,
   "id": "407c5cde",
   "metadata": {},
   "outputs": [
    {
     "name": "stdout",
     "output_type": "stream",
     "text": [
      "Looking in: C:\n",
      "Looking in: C:.ipynb_checkpoints\n",
      "Looking in: C:Video to GIf\n",
      "Number of files 21\n",
      "Number of Directories 2\n",
      "Total: 23\n"
     ]
    }
   ],
   "source": [
    "import os \n",
    "\n",
    "# Path IN which we have to count fiLes and directories \n",
    "Path = \"C:\"\n",
    "\n",
    "fileCount = 0 \n",
    "dirCount = 0 \n",
    "\n",
    "for root, dirs, files in os.walk(Path):\n",
    "    print('Looking in:',root)\n",
    "    for directories in dirs:\n",
    "        dirCount += 1\n",
    "    for Files in files:\n",
    "        fileCount += 1 \n",
    "        \n",
    "print('Number of files',fileCount) \n",
    "print('Number of Directories',dirCount) \n",
    "print('Total:',(dirCount + fileCount)) "
   ]
  },
  {
   "cell_type": "code",
   "execution_count": null,
   "id": "d22d395d",
   "metadata": {},
   "outputs": [],
   "source": []
  }
 ],
 "metadata": {
  "kernelspec": {
   "display_name": "Python 3 (ipykernel)",
   "language": "python",
   "name": "python3"
  },
  "language_info": {
   "codemirror_mode": {
    "name": "ipython",
    "version": 3
   },
   "file_extension": ".py",
   "mimetype": "text/x-python",
   "name": "python",
   "nbconvert_exporter": "python",
   "pygments_lexer": "ipython3",
   "version": "3.9.7"
  }
 },
 "nbformat": 4,
 "nbformat_minor": 5
}
