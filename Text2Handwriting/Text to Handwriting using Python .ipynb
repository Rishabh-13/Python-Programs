{
 "cells": [
  {
   "cell_type": "code",
   "execution_count": null,
   "id": "923edf9d",
   "metadata": {},
   "outputs": [],
   "source": [
    "pip install pywhatkit"
   ]
  },
  {
   "cell_type": "code",
   "execution_count": 3,
   "id": "4b1c65a9",
   "metadata": {},
   "outputs": [
    {
     "name": "stdout",
     "output_type": "stream",
     "text": [
      "Enter your text to convert in Handwriting : Python Rocks!\n"
     ]
    }
   ],
   "source": [
    "import pywhatkit as kit \n",
    "import cv2\n",
    "\n",
    "Handwritten=input(\"Enter your text to convert in Handwriting : \")\n",
    "\n",
    "kit.text_to_handwriting(Handwritten, save_to=\"text2Handwriting.png\") \n",
    "img = cv2.imread(\"text2Handwriting.png\")\n",
    "cv2.imshow(\"text2Handwriting\", img) \n",
    "cv2.waitKey(0) \n",
    "cv2.destroyAllWindows() "
   ]
  },
  {
   "cell_type": "code",
   "execution_count": null,
   "id": "408892c1",
   "metadata": {},
   "outputs": [],
   "source": []
  }
 ],
 "metadata": {
  "kernelspec": {
   "display_name": "Python 3 (ipykernel)",
   "language": "python",
   "name": "python3"
  },
  "language_info": {
   "codemirror_mode": {
    "name": "ipython",
    "version": 3
   },
   "file_extension": ".py",
   "mimetype": "text/x-python",
   "name": "python",
   "nbconvert_exporter": "python",
   "pygments_lexer": "ipython3",
   "version": "3.9.7"
  }
 },
 "nbformat": 4,
 "nbformat_minor": 5
}
