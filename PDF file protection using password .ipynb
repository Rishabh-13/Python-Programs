{
 "cells": [
  {
   "cell_type": "code",
   "execution_count": 5,
   "id": "eba792ad",
   "metadata": {},
   "outputs": [
    {
     "name": "stdout",
     "output_type": "stream",
     "text": [
      "Enter Password: ········\n",
      "Now File is password protected\n"
     ]
    }
   ],
   "source": [
    "#pip instaLL PyPDF2\n",
    "from PyPDF2 import PdfFileWriter, PdfFileReader \n",
    "import getpass \n",
    "\n",
    "pdfwriter=PdfFileWriter() \n",
    "pdf=PdfFileReader('C:\\\\Users\\\\risha\\\\Desktop\\\\testLock.pdf')  #Enter file path\n",
    "for page_num in range(pdf.numPages):\n",
    "    pdfwriter.addPage(pdf.getPage(page_num)) \n",
    "    \n",
    "password=getpass.getpass(prompt='Enter Password: ') \n",
    "pdfwriter.encrypt(password)\n",
    "\n",
    "with open('C:\\\\Users\\\\risha\\\\Desktop\\\\testLock.pdf','wb') as f: \n",
    "    pdfwriter.write(f) \n",
    "    \n",
    "print(\"Now File is password protected\")"
   ]
  },
  {
   "cell_type": "code",
   "execution_count": null,
   "id": "a2a88dfb",
   "metadata": {},
   "outputs": [],
   "source": []
  }
 ],
 "metadata": {
  "kernelspec": {
   "display_name": "Python 3 (ipykernel)",
   "language": "python",
   "name": "python3"
  },
  "language_info": {
   "codemirror_mode": {
    "name": "ipython",
    "version": 3
   },
   "file_extension": ".py",
   "mimetype": "text/x-python",
   "name": "python",
   "nbconvert_exporter": "python",
   "pygments_lexer": "ipython3",
   "version": "3.9.7"
  }
 },
 "nbformat": 4,
 "nbformat_minor": 5
}
