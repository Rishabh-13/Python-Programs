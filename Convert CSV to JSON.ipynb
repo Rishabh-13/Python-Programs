{
 "cells": [
  {
   "cell_type": "code",
   "execution_count": null,
   "id": "15c20207",
   "metadata": {},
   "outputs": [],
   "source": [
    "import pandas as pd\n",
    "import csv, json"
   ]
  },
  {
   "cell_type": "code",
   "execution_count": null,
   "id": "ffa42ad8",
   "metadata": {},
   "outputs": [],
   "source": [
    "data=pd.read_csv(\"Instagram.csv\")\n",
    "\n",
    "print (data)"
   ]
  },
  {
   "cell_type": "code",
   "execution_count": null,
   "id": "1b1c16fe",
   "metadata": {},
   "outputs": [],
   "source": [
    "print(\"Converted JSON file below :\")\n",
    "\n",
    "print (json.dumps(1ist(csv.reader(open('Instagram.csv')))))"
   ]
  },
  {
   "cell_type": "code",
   "execution_count": null,
   "id": "5ee423c9",
   "metadata": {},
   "outputs": [],
   "source": []
  }
 ],
 "metadata": {
  "kernelspec": {
   "display_name": "Python 3 (ipykernel)",
   "language": "python",
   "name": "python3"
  },
  "language_info": {
   "codemirror_mode": {
    "name": "ipython",
    "version": 3
   },
   "file_extension": ".py",
   "mimetype": "text/x-python",
   "name": "python",
   "nbconvert_exporter": "python",
   "pygments_lexer": "ipython3",
   "version": "3.9.7"
  }
 },
 "nbformat": 4,
 "nbformat_minor": 5
}
