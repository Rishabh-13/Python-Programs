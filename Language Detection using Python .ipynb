{
 "cells": [
  {
   "cell_type": "code",
   "execution_count": null,
   "id": "1f942e02",
   "metadata": {},
   "outputs": [],
   "source": [
    "pip install langdetect"
   ]
  },
  {
   "cell_type": "code",
   "execution_count": 1,
   "id": "65773c91",
   "metadata": {},
   "outputs": [],
   "source": [
    "from langdetect import detect"
   ]
  },
  {
   "cell_type": "code",
   "execution_count": 9,
   "id": "03827e36",
   "metadata": {},
   "outputs": [
    {
     "name": "stdout",
     "output_type": "stream",
     "text": [
      "Enter any text in any language: भारत एक महान देश है\n",
      "hi\n"
     ]
    }
   ],
   "source": [
    "text = input(\"Enter any text in any language: \") \n",
    "print(detect(text)) "
   ]
  },
  {
   "cell_type": "code",
   "execution_count": null,
   "id": "bae818e1",
   "metadata": {},
   "outputs": [],
   "source": [
    "# langdetect supports 55 languages \n",
    "# Checkout the languages & thier symbols here: \n",
    "https://en.wikipedia.org/wiki/List_of_ISO_639-1_codes"
   ]
  },
  {
   "cell_type": "code",
   "execution_count": 10,
   "id": "fb7335a6",
   "metadata": {},
   "outputs": [],
   "source": [
    "# Language detection algorithm is non-deterministic,\n",
    "# which means that if you try to run it on a text which is either too short or too ambiguous,\n",
    "# you might get different results everytime you run it."
   ]
  }
 ],
 "metadata": {
  "kernelspec": {
   "display_name": "Python 3 (ipykernel)",
   "language": "python",
   "name": "python3"
  },
  "language_info": {
   "codemirror_mode": {
    "name": "ipython",
    "version": 3
   },
   "file_extension": ".py",
   "mimetype": "text/x-python",
   "name": "python",
   "nbconvert_exporter": "python",
   "pygments_lexer": "ipython3",
   "version": "3.9.7"
  }
 },
 "nbformat": 4,
 "nbformat_minor": 5
}
