{
 "cells": [
  {
   "cell_type": "code",
   "execution_count": 9,
   "id": "d67c459d",
   "metadata": {},
   "outputs": [],
   "source": [
    "#pip install rembg"
   ]
  },
  {
   "cell_type": "code",
   "execution_count": null,
   "id": "a803b10f",
   "metadata": {},
   "outputs": [],
   "source": [
    "from rembg import remove\n",
    "from PIL import Image"
   ]
  },
  {
   "cell_type": "code",
   "execution_count": null,
   "id": "b2339fae",
   "metadata": {},
   "outputs": [],
   "source": [
    "input_path = 'puppy.jpg'\n",
    "output_path = 'output.png'\n",
    "input = Image.open(input_path)\n",
    "output = remove(input)\n",
    "\n",
    "output. save(output_path)"
   ]
  }
 ],
 "metadata": {
  "kernelspec": {
   "display_name": "Python 3 (ipykernel)",
   "language": "python",
   "name": "python3"
  },
  "language_info": {
   "codemirror_mode": {
    "name": "ipython",
    "version": 3
   },
   "file_extension": ".py",
   "mimetype": "text/x-python",
   "name": "python",
   "nbconvert_exporter": "python",
   "pygments_lexer": "ipython3",
   "version": "3.9.7"
  }
 },
 "nbformat": 4,
 "nbformat_minor": 5
}
